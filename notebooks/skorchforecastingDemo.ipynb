{
 "cells": [
  {
   "cell_type": "code",
   "execution_count": 1,
   "id": "b4dd3c8c",
   "metadata": {},
   "outputs": [],
   "source": [
    "import sys\n",
    "\n",
    "\n",
    "skorch_forecasting_path = '/home/jovyan/skorch_forecasting'\n",
    "\n",
    "if skorch_forecasting_path not in sys.path:\n",
    "    sys.path.append(skorch_forecasting_path)\n",
    "    \n",
    "%load_ext autoreload\n",
    "%autoreload 2"
   ]
  },
  {
   "cell_type": "code",
   "execution_count": 2,
   "id": "cd21cb74",
   "metadata": {},
   "outputs": [],
   "source": [
    "import pandas as pd\n",
    "import matplotlib.pyplot as plt"
   ]
  },
  {
   "cell_type": "markdown",
   "id": "4957a8a7",
   "metadata": {},
   "source": [
    "# Read csv"
   ]
  },
  {
   "cell_type": "code",
   "execution_count": 3,
   "id": "f8049364",
   "metadata": {},
   "outputs": [],
   "source": [
    "X = pd.read_csv('grouped_timeseries.csv')"
   ]
  },
  {
   "cell_type": "code",
   "execution_count": 5,
   "id": "31eb3aaf",
   "metadata": {},
   "outputs": [],
   "source": [
    "# Meta data\n",
    "\n",
    "GROUP_IDS = ['PRODUCT_ID']  # Columnas agrupadoras\n",
    "TIMESTAMP = 'SALE_DATE'\n",
    "TARGET = 'SALE_UNITS'\n",
    "FREQ = 'W'"
   ]
  },
  {
   "cell_type": "code",
   "execution_count": 7,
   "id": "68cf3c58",
   "metadata": {},
   "outputs": [],
   "source": [
    "# Set correct dtypes.\n",
    "\n",
    "X[TIMESTAMP] = pd.to_datetime(X[TIMESTAMP])\n",
    "X = X.sort_values(GROUP_IDS + [TIMESTAMP]).reset_index(drop=True)\n",
    "\n",
    "# Group ids to str\n",
    "for group_id in GROUP_IDS:\n",
    "    X[group_id] = X[group_id].astype(str)"
   ]
  },
  {
   "cell_type": "code",
   "execution_count": 8,
   "id": "15cc00eb",
   "metadata": {},
   "outputs": [
    {
     "name": "stderr",
     "output_type": "stream",
     "text": [
      "/tmp/ipykernel_54/4280101944.py:4: FutureWarning: The default value of numeric_only in DataFrameGroupBy.sum is deprecated. In a future version, numeric_only will default to False. Either specify numeric_only or select only columns which should be valid for the function.\n",
      "  groups_to_keep = X.groupby(GROUP_IDS).sum()[TARGET].nlargest(N).index\n"
     ]
    }
   ],
   "source": [
    "# Select only top N timeseries.\n",
    "\n",
    "N = 20\n",
    "groups_to_keep = X.groupby(GROUP_IDS).sum()[TARGET].nlargest(N).index\n",
    "X = X.set_index(GROUP_IDS).loc[groups_to_keep].reset_index()"
   ]
  },
  {
   "cell_type": "markdown",
   "id": "ecce298e",
   "metadata": {},
   "source": [
    "# Train-test split"
   ]
  },
  {
   "cell_type": "code",
   "execution_count": 9,
   "id": "3daebef0",
   "metadata": {},
   "outputs": [],
   "source": [
    "from skorch_forecasting.utils.datetime import set_date_on_freq\n",
    "from skorch_forecasting.model_selection import train_test_split"
   ]
  },
  {
   "cell_type": "code",
   "execution_count": 10,
   "id": "53461a3d",
   "metadata": {},
   "outputs": [],
   "source": [
    "# Dates configuration\n",
    "\n",
    "TEST_START = '2021-08-01'\n",
    "TEST_END = '2021-09-01'\n",
    "\n",
    "TEST_START = set_date_on_freq(TEST_START, FREQ)\n",
    "TEST_END = set_date_on_freq(TEST_END, FREQ)\n",
    "PREDICTION_LEN = len(pd.date_range(TEST_START, TEST_END, freq=FREQ))\n",
    "ENCODER_LEN = 26"
   ]
  },
  {
   "cell_type": "code",
   "execution_count": 11,
   "id": "2f3ed643",
   "metadata": {},
   "outputs": [],
   "source": [
    "# Train-test split.\n",
    "\n",
    "X_train, X_test = train_test_split(\n",
    "    X, TEST_START, TEST_END, TIMESTAMP, \n",
    "    FREQ, sequence_length=ENCODER_LEN\n",
    ")"
   ]
  },
  {
   "cell_type": "markdown",
   "id": "fb0c8258",
   "metadata": {},
   "source": [
    "# Preprocessing"
   ]
  },
  {
   "cell_type": "code",
   "execution_count": 12,
   "id": "fdc26a32",
   "metadata": {},
   "outputs": [],
   "source": [
    "from skorch_forecasting.preprocessing import (\n",
    "    GroupWiseColumnTransformer, \n",
    "    PandasColumnTransformer,\n",
    "    TimeIndexEncoder\n",
    ")\n",
    "from sklearn.preprocessing import MinMaxScaler\n",
    "from sklearn.pipeline import make_pipeline"
   ]
  },
  {
   "cell_type": "code",
   "execution_count": 13,
   "id": "65cf9078",
   "metadata": {},
   "outputs": [],
   "source": [
    "# Construction of ``preprocessor``.\n",
    "\n",
    "# Timestamp encoder.\n",
    "transformers = [(TimeIndexEncoder(freq='W'), TIMESTAMP)]\n",
    "timestamp_encoder = PandasColumnTransformer(transformers)\n",
    "\n",
    "# Numerical features transformer.\n",
    "transformers = [(MinMaxScaler(), ['SALE_PRICE', 'ACTIVE_STORES'])]\n",
    "features_transformer = GroupWiseColumnTransformer(transformers, GROUP_IDS)\n",
    "\n",
    "# Target transformer.\n",
    "transformers = [(MinMaxScaler(), [TARGET])]\n",
    "target_transformer = GroupWiseColumnTransformer(transformers, GROUP_IDS)\n",
    "\n",
    "\n",
    "transformations = [\n",
    "    timestamp_encoder,\n",
    "    features_transformer,\n",
    "    target_transformer\n",
    "]\n",
    "\n",
    "\n",
    "pipeline = make_pipeline(*transformations)"
   ]
  },
  {
   "cell_type": "code",
   "execution_count": 14,
   "id": "76f443d9",
   "metadata": {},
   "outputs": [],
   "source": [
    "X_train_transformed = pipeline.fit_transform(X_train)"
   ]
  },
  {
   "cell_type": "code",
   "execution_count": 15,
   "id": "aba00ebf",
   "metadata": {},
   "outputs": [
    {
     "data": {
      "text/html": [
       "<div>\n",
       "<style scoped>\n",
       "    .dataframe tbody tr th:only-of-type {\n",
       "        vertical-align: middle;\n",
       "    }\n",
       "\n",
       "    .dataframe tbody tr th {\n",
       "        vertical-align: top;\n",
       "    }\n",
       "\n",
       "    .dataframe thead th {\n",
       "        text-align: right;\n",
       "    }\n",
       "</style>\n",
       "<table border=\"1\" class=\"dataframe\">\n",
       "  <thead>\n",
       "    <tr style=\"text-align: right;\">\n",
       "      <th></th>\n",
       "      <th>SALE_UNITS</th>\n",
       "      <th>SALE_PRICE</th>\n",
       "      <th>ACTIVE_STORES</th>\n",
       "      <th>SALE_DATE</th>\n",
       "      <th>PRODUCT_ID</th>\n",
       "    </tr>\n",
       "  </thead>\n",
       "  <tbody>\n",
       "    <tr>\n",
       "      <th>0</th>\n",
       "      <td>0.372093</td>\n",
       "      <td>0.140086</td>\n",
       "      <td>0.000000</td>\n",
       "      <td>0</td>\n",
       "      <td>16387</td>\n",
       "    </tr>\n",
       "    <tr>\n",
       "      <th>1</th>\n",
       "      <td>0.232558</td>\n",
       "      <td>0.000000</td>\n",
       "      <td>0.119048</td>\n",
       "      <td>1</td>\n",
       "      <td>16387</td>\n",
       "    </tr>\n",
       "    <tr>\n",
       "      <th>2</th>\n",
       "      <td>0.139535</td>\n",
       "      <td>0.140638</td>\n",
       "      <td>0.190476</td>\n",
       "      <td>2</td>\n",
       "      <td>16387</td>\n",
       "    </tr>\n",
       "    <tr>\n",
       "      <th>3</th>\n",
       "      <td>0.011628</td>\n",
       "      <td>0.205444</td>\n",
       "      <td>0.214286</td>\n",
       "      <td>3</td>\n",
       "      <td>16387</td>\n",
       "    </tr>\n",
       "    <tr>\n",
       "      <th>4</th>\n",
       "      <td>0.209302</td>\n",
       "      <td>0.204243</td>\n",
       "      <td>0.238095</td>\n",
       "      <td>4</td>\n",
       "      <td>16387</td>\n",
       "    </tr>\n",
       "  </tbody>\n",
       "</table>\n",
       "</div>"
      ],
      "text/plain": [
       "   SALE_UNITS  SALE_PRICE  ACTIVE_STORES  SALE_DATE PRODUCT_ID\n",
       "0    0.372093    0.140086       0.000000          0      16387\n",
       "1    0.232558    0.000000       0.119048          1      16387\n",
       "2    0.139535    0.140638       0.190476          2      16387\n",
       "3    0.011628    0.205444       0.214286          3      16387\n",
       "4    0.209302    0.204243       0.238095          4      16387"
      ]
     },
     "execution_count": 15,
     "metadata": {},
     "output_type": "execute_result"
    }
   ],
   "source": [
    "X_train_transformed.head()"
   ]
  },
  {
   "cell_type": "markdown",
   "id": "fc1e71f4",
   "metadata": {},
   "source": [
    "# Fit"
   ]
  },
  {
   "cell_type": "code",
   "execution_count": 16,
   "id": "a8ba2c3c",
   "metadata": {},
   "outputs": [],
   "source": [
    "from skorch_forecasting.nn import Seq2Seq\n",
    "from skorch_forecasting.nn import TemporalFusionTransformer as TFT\n",
    "from skorch.callbacks import LRScheduler, GradientNormClipping, EarlyStopping\n",
    "from torch.optim.lr_scheduler import OneCycleLR"
   ]
  },
  {
   "cell_type": "code",
   "execution_count": 17,
   "id": "2779c035",
   "metadata": {},
   "outputs": [],
   "source": [
    "# Construct ``callbacks``.\n",
    "# Callbacks are a way to customize the behavior of the neural net training.\n",
    "# For this demo, two callbacks are included: learning rate scheduler and gradient clipping.\n",
    "\n",
    "callbacks = []\n",
    "\n",
    "# Learning rate scheduler.\n",
    "name = 'lr_scheduler'\n",
    "lr_scheduler = dict(\n",
    "    policy=OneCycleLR, \n",
    "    step_every='batch', \n",
    "    max_lr=1e-3, \n",
    "    steps_per_epoch='iterations', \n",
    "    epochs='max_epochs'\n",
    ")\n",
    "obj = LRScheduler(**lr_scheduler)\n",
    "callbacks.append((name, obj))\n",
    "\n",
    "# Gradient clipping.\n",
    "name = 'gradient_clipping'\n",
    "obj = GradientNormClipping(1)\n",
    "callbacks.append((name, obj))"
   ]
  },
  {
   "cell_type": "code",
   "execution_count": 20,
   "id": "042804fa",
   "metadata": {},
   "outputs": [],
   "source": [
    "seq2seq = Seq2Seq(\n",
    "    group_ids=GROUP_IDS,\n",
    "    time_idx=TIMESTAMP,\n",
    "    target=TARGET,\n",
    "    max_prediction_length=PREDICTION_LEN,\n",
    "    max_encoder_length=ENCODER_LEN,\n",
    "    time_varying_known_reals=['ACTIVE_STORES', 'SALE_PRICE'],\n",
    "    time_varying_unknown_reals=[TARGET],\n",
    "    static_categoricals=GROUP_IDS,\n",
    "    batch_size=64,\n",
    "    max_epochs=30,\n",
    "    callbacks=callbacks\n",
    ")"
   ]
  },
  {
   "cell_type": "code",
   "execution_count": null,
   "id": "8dcc2de0",
   "metadata": {},
   "outputs": [],
   "source": [
    "ctrl+c"
   ]
  },
  {
   "cell_type": "code",
   "execution_count": 21,
   "id": "48d03e37",
   "metadata": {},
   "outputs": [
    {
     "name": "stdout",
     "output_type": "stream",
     "text": [
      "  epoch    train_loss      dur\n",
      "-------  ------------  -------\n",
      "      1        \u001b[36m0.4137\u001b[0m  21.8275\n"
     ]
    },
    {
     "data": {
      "text/html": [
       "<style>#sk-container-id-1 {color: black;background-color: white;}#sk-container-id-1 pre{padding: 0;}#sk-container-id-1 div.sk-toggleable {background-color: white;}#sk-container-id-1 label.sk-toggleable__label {cursor: pointer;display: block;width: 100%;margin-bottom: 0;padding: 0.3em;box-sizing: border-box;text-align: center;}#sk-container-id-1 label.sk-toggleable__label-arrow:before {content: \"▸\";float: left;margin-right: 0.25em;color: #696969;}#sk-container-id-1 label.sk-toggleable__label-arrow:hover:before {color: black;}#sk-container-id-1 div.sk-estimator:hover label.sk-toggleable__label-arrow:before {color: black;}#sk-container-id-1 div.sk-toggleable__content {max-height: 0;max-width: 0;overflow: hidden;text-align: left;background-color: #f0f8ff;}#sk-container-id-1 div.sk-toggleable__content pre {margin: 0.2em;color: black;border-radius: 0.25em;background-color: #f0f8ff;}#sk-container-id-1 input.sk-toggleable__control:checked~div.sk-toggleable__content {max-height: 200px;max-width: 100%;overflow: auto;}#sk-container-id-1 input.sk-toggleable__control:checked~label.sk-toggleable__label-arrow:before {content: \"▾\";}#sk-container-id-1 div.sk-estimator input.sk-toggleable__control:checked~label.sk-toggleable__label {background-color: #d4ebff;}#sk-container-id-1 div.sk-label input.sk-toggleable__control:checked~label.sk-toggleable__label {background-color: #d4ebff;}#sk-container-id-1 input.sk-hidden--visually {border: 0;clip: rect(1px 1px 1px 1px);clip: rect(1px, 1px, 1px, 1px);height: 1px;margin: -1px;overflow: hidden;padding: 0;position: absolute;width: 1px;}#sk-container-id-1 div.sk-estimator {font-family: monospace;background-color: #f0f8ff;border: 1px dotted black;border-radius: 0.25em;box-sizing: border-box;margin-bottom: 0.5em;}#sk-container-id-1 div.sk-estimator:hover {background-color: #d4ebff;}#sk-container-id-1 div.sk-parallel-item::after {content: \"\";width: 100%;border-bottom: 1px solid gray;flex-grow: 1;}#sk-container-id-1 div.sk-label:hover label.sk-toggleable__label {background-color: #d4ebff;}#sk-container-id-1 div.sk-serial::before {content: \"\";position: absolute;border-left: 1px solid gray;box-sizing: border-box;top: 0;bottom: 0;left: 50%;z-index: 0;}#sk-container-id-1 div.sk-serial {display: flex;flex-direction: column;align-items: center;background-color: white;padding-right: 0.2em;padding-left: 0.2em;position: relative;}#sk-container-id-1 div.sk-item {position: relative;z-index: 1;}#sk-container-id-1 div.sk-parallel {display: flex;align-items: stretch;justify-content: center;background-color: white;position: relative;}#sk-container-id-1 div.sk-item::before, #sk-container-id-1 div.sk-parallel-item::before {content: \"\";position: absolute;border-left: 1px solid gray;box-sizing: border-box;top: 0;bottom: 0;left: 50%;z-index: -1;}#sk-container-id-1 div.sk-parallel-item {display: flex;flex-direction: column;z-index: 1;position: relative;background-color: white;}#sk-container-id-1 div.sk-parallel-item:first-child::after {align-self: flex-end;width: 50%;}#sk-container-id-1 div.sk-parallel-item:last-child::after {align-self: flex-start;width: 50%;}#sk-container-id-1 div.sk-parallel-item:only-child::after {width: 0;}#sk-container-id-1 div.sk-dashed-wrapped {border: 1px dashed gray;margin: 0 0.4em 0.5em 0.4em;box-sizing: border-box;padding-bottom: 0.4em;background-color: white;}#sk-container-id-1 div.sk-label label {font-family: monospace;font-weight: bold;display: inline-block;line-height: 1.2em;}#sk-container-id-1 div.sk-label-container {text-align: center;}#sk-container-id-1 div.sk-container {/* jupyter's `normalize.less` sets `[hidden] { display: none; }` but bootstrap.min.css set `[hidden] { display: none !important; }` so we also need the `!important` here to be able to override the default hidden behavior on the sphinx rendered scikit-learn.org. See: https://github.com/scikit-learn/scikit-learn/issues/21755 */display: inline-block !important;position: relative;}#sk-container-id-1 div.sk-text-repr-fallback {display: none;}</style><div id=\"sk-container-id-1\" class=\"sk-top-container\"><div class=\"sk-text-repr-fallback\"><pre>Seq2Seq(_collate_fn=&lt;class &#x27;skorch_forecasting.nn._seq2seq.Seq2SeqCollateFn&#x27;&gt;,\n",
       "        _output_decoder=&lt;class &#x27;skorch_forecasting.nn._seq2seq.Seq2SeqOutputDecoder&#x27;&gt;,\n",
       "        callbacks=[(&#x27;lr_scheduler&#x27;,\n",
       "                    &lt;skorch.callbacks.lr_scheduler.LRScheduler object at 0x40f68fcd60&gt;),\n",
       "                   (&#x27;gradient_clipping&#x27;,\n",
       "                    &lt;skorch.callbacks.regularization.GradientNormClipping object at 0x40f68fce80&gt;)],\n",
       "        criterion=&lt;class &#x27;pytorch_forecasting.metrics.point.RMSE&#x27;&gt;,\n",
       "        group_ids=[&#x27;PRODUCT_ID&#x27;], max_encoder_length=26, max_epochs=30,\n",
       "        max_prediction_length=6, optimizer=&lt;class &#x27;torch.optim.adam.Adam&#x27;&gt;,\n",
       "        static_categoricals=[&#x27;PRODUCT_ID&#x27;], target=&#x27;SALE_UNITS&#x27;,\n",
       "        time_idx=&#x27;SALE_DATE&#x27;,\n",
       "        time_varying_known_reals=[&#x27;ACTIVE_STORES&#x27;, &#x27;SALE_PRICE&#x27;],\n",
       "        time_varying_unknown_reals=[&#x27;SALE_UNITS&#x27;])</pre><b>In a Jupyter environment, please rerun this cell to show the HTML representation or trust the notebook. <br />On GitHub, the HTML representation is unable to render, please try loading this page with nbviewer.org.</b></div><div class=\"sk-container\" hidden><div class=\"sk-item\"><div class=\"sk-estimator sk-toggleable\"><input class=\"sk-toggleable__control sk-hidden--visually\" id=\"sk-estimator-id-1\" type=\"checkbox\" checked><label for=\"sk-estimator-id-1\" class=\"sk-toggleable__label sk-toggleable__label-arrow\">Seq2Seq</label><div class=\"sk-toggleable__content\"><pre>Seq2Seq(_collate_fn=&lt;class &#x27;skorch_forecasting.nn._seq2seq.Seq2SeqCollateFn&#x27;&gt;,\n",
       "        _output_decoder=&lt;class &#x27;skorch_forecasting.nn._seq2seq.Seq2SeqOutputDecoder&#x27;&gt;,\n",
       "        callbacks=[(&#x27;lr_scheduler&#x27;,\n",
       "                    &lt;skorch.callbacks.lr_scheduler.LRScheduler object at 0x40f68fcd60&gt;),\n",
       "                   (&#x27;gradient_clipping&#x27;,\n",
       "                    &lt;skorch.callbacks.regularization.GradientNormClipping object at 0x40f68fce80&gt;)],\n",
       "        criterion=&lt;class &#x27;pytorch_forecasting.metrics.point.RMSE&#x27;&gt;,\n",
       "        group_ids=[&#x27;PRODUCT_ID&#x27;], max_encoder_length=26, max_epochs=30,\n",
       "        max_prediction_length=6, optimizer=&lt;class &#x27;torch.optim.adam.Adam&#x27;&gt;,\n",
       "        static_categoricals=[&#x27;PRODUCT_ID&#x27;], target=&#x27;SALE_UNITS&#x27;,\n",
       "        time_idx=&#x27;SALE_DATE&#x27;,\n",
       "        time_varying_known_reals=[&#x27;ACTIVE_STORES&#x27;, &#x27;SALE_PRICE&#x27;],\n",
       "        time_varying_unknown_reals=[&#x27;SALE_UNITS&#x27;])</pre></div></div></div></div></div>"
      ],
      "text/plain": [
       "Seq2Seq(_collate_fn=<class 'skorch_forecasting.nn._seq2seq.Seq2SeqCollateFn'>,\n",
       "        _output_decoder=<class 'skorch_forecasting.nn._seq2seq.Seq2SeqOutputDecoder'>,\n",
       "        callbacks=[('lr_scheduler',\n",
       "                    <skorch.callbacks.lr_scheduler.LRScheduler object at 0x40f68fcd60>),\n",
       "                   ('gradient_clipping',\n",
       "                    <skorch.callbacks.regularization.GradientNormClipping object at 0x40f68fce80>)],\n",
       "        criterion=<class 'pytorch_forecasting.metrics.point.RMSE'>,\n",
       "        group_ids=['PRODUCT_ID'], max_encoder_length=26, max_epochs=30,\n",
       "        max_prediction_length=6, optimizer=<class 'torch.optim.adam.Adam'>,\n",
       "        static_categoricals=['PRODUCT_ID'], target='SALE_UNITS',\n",
       "        time_idx='SALE_DATE',\n",
       "        time_varying_known_reals=['ACTIVE_STORES', 'SALE_PRICE'],\n",
       "        time_varying_unknown_reals=['SALE_UNITS'])"
      ]
     },
     "execution_count": 21,
     "metadata": {},
     "output_type": "execute_result"
    }
   ],
   "source": [
    "seq2seq.fit(X_train_transformed)"
   ]
  },
  {
   "cell_type": "code",
   "execution_count": 24,
   "id": "3f19ee41",
   "metadata": {},
   "outputs": [],
   "source": [
    "output = seq2seq.predict(X_train_transformed, raw=False)"
   ]
  },
  {
   "cell_type": "code",
   "execution_count": 25,
   "id": "effc27f2",
   "metadata": {},
   "outputs": [
    {
     "data": {
      "text/html": [
       "<div>\n",
       "<style scoped>\n",
       "    .dataframe tbody tr th:only-of-type {\n",
       "        vertical-align: middle;\n",
       "    }\n",
       "\n",
       "    .dataframe tbody tr th {\n",
       "        vertical-align: top;\n",
       "    }\n",
       "\n",
       "    .dataframe thead th {\n",
       "        text-align: right;\n",
       "    }\n",
       "</style>\n",
       "<table border=\"1\" class=\"dataframe\">\n",
       "  <thead>\n",
       "    <tr style=\"text-align: right;\">\n",
       "      <th></th>\n",
       "      <th>PRODUCT_ID</th>\n",
       "      <th>SALE_UNITS</th>\n",
       "      <th>SALE_PRICE</th>\n",
       "      <th>ACTIVE_STORES</th>\n",
       "      <th>SALE_DATE</th>\n",
       "    </tr>\n",
       "  </thead>\n",
       "  <tbody>\n",
       "    <tr>\n",
       "      <th>0</th>\n",
       "      <td>16387</td>\n",
       "      <td>0.059115</td>\n",
       "      <td>0.409812</td>\n",
       "      <td>0.452381</td>\n",
       "      <td>26</td>\n",
       "    </tr>\n",
       "    <tr>\n",
       "      <th>1</th>\n",
       "      <td>16387</td>\n",
       "      <td>0.037848</td>\n",
       "      <td>0.398183</td>\n",
       "      <td>0.476190</td>\n",
       "      <td>27</td>\n",
       "    </tr>\n",
       "    <tr>\n",
       "      <th>2</th>\n",
       "      <td>16387</td>\n",
       "      <td>0.034087</td>\n",
       "      <td>0.398092</td>\n",
       "      <td>0.476190</td>\n",
       "      <td>28</td>\n",
       "    </tr>\n",
       "    <tr>\n",
       "      <th>3</th>\n",
       "      <td>16387</td>\n",
       "      <td>0.035695</td>\n",
       "      <td>0.369724</td>\n",
       "      <td>0.476190</td>\n",
       "      <td>29</td>\n",
       "    </tr>\n",
       "    <tr>\n",
       "      <th>4</th>\n",
       "      <td>16387</td>\n",
       "      <td>0.042573</td>\n",
       "      <td>0.375052</td>\n",
       "      <td>0.500000</td>\n",
       "      <td>30</td>\n",
       "    </tr>\n",
       "  </tbody>\n",
       "</table>\n",
       "</div>"
      ],
      "text/plain": [
       "  PRODUCT_ID  SALE_UNITS  SALE_PRICE  ACTIVE_STORES  SALE_DATE\n",
       "0      16387    0.059115    0.409812       0.452381         26\n",
       "1      16387    0.037848    0.398183       0.476190         27\n",
       "2      16387    0.034087    0.398092       0.476190         28\n",
       "3      16387    0.035695    0.369724       0.476190         29\n",
       "4      16387    0.042573    0.375052       0.500000         30"
      ]
     },
     "execution_count": 25,
     "metadata": {},
     "output_type": "execute_result"
    }
   ],
   "source": [
    "output.head()"
   ]
  },
  {
   "cell_type": "code",
   "execution_count": 26,
   "id": "2e7e2f47",
   "metadata": {},
   "outputs": [
    {
     "data": {
      "text/html": [
       "<div>\n",
       "<style scoped>\n",
       "    .dataframe tbody tr th:only-of-type {\n",
       "        vertical-align: middle;\n",
       "    }\n",
       "\n",
       "    .dataframe tbody tr th {\n",
       "        vertical-align: top;\n",
       "    }\n",
       "\n",
       "    .dataframe thead th {\n",
       "        text-align: right;\n",
       "    }\n",
       "</style>\n",
       "<table border=\"1\" class=\"dataframe\">\n",
       "  <thead>\n",
       "    <tr style=\"text-align: right;\">\n",
       "      <th></th>\n",
       "      <th>SALE_DATE</th>\n",
       "      <th>PRODUCT_ID</th>\n",
       "      <th>SALE_UNITS</th>\n",
       "      <th>SALE_PRICE</th>\n",
       "      <th>ACTIVE_STORES</th>\n",
       "    </tr>\n",
       "  </thead>\n",
       "  <tbody>\n",
       "    <tr>\n",
       "      <th>0</th>\n",
       "      <td>2017-07-09</td>\n",
       "      <td>16387</td>\n",
       "      <td>42.251595</td>\n",
       "      <td>8.454278</td>\n",
       "      <td>34.0</td>\n",
       "    </tr>\n",
       "    <tr>\n",
       "      <th>1</th>\n",
       "      <td>2017-07-16</td>\n",
       "      <td>16387</td>\n",
       "      <td>36.764851</td>\n",
       "      <td>8.412099</td>\n",
       "      <td>35.0</td>\n",
       "    </tr>\n",
       "    <tr>\n",
       "      <th>2</th>\n",
       "      <td>2017-07-23</td>\n",
       "      <td>16387</td>\n",
       "      <td>35.794357</td>\n",
       "      <td>8.411769</td>\n",
       "      <td>35.0</td>\n",
       "    </tr>\n",
       "    <tr>\n",
       "      <th>3</th>\n",
       "      <td>2017-07-30</td>\n",
       "      <td>16387</td>\n",
       "      <td>36.209229</td>\n",
       "      <td>8.308873</td>\n",
       "      <td>35.0</td>\n",
       "    </tr>\n",
       "    <tr>\n",
       "      <th>4</th>\n",
       "      <td>2017-08-06</td>\n",
       "      <td>16387</td>\n",
       "      <td>37.983948</td>\n",
       "      <td>8.328200</td>\n",
       "      <td>36.0</td>\n",
       "    </tr>\n",
       "    <tr>\n",
       "      <th>...</th>\n",
       "      <td>...</td>\n",
       "      <td>...</td>\n",
       "      <td>...</td>\n",
       "      <td>...</td>\n",
       "      <td>...</td>\n",
       "    </tr>\n",
       "    <tr>\n",
       "      <th>4235</th>\n",
       "      <td>2021-06-27</td>\n",
       "      <td>6110</td>\n",
       "      <td>197.458313</td>\n",
       "      <td>7.092176</td>\n",
       "      <td>34.0</td>\n",
       "    </tr>\n",
       "    <tr>\n",
       "      <th>4236</th>\n",
       "      <td>2021-07-04</td>\n",
       "      <td>6110</td>\n",
       "      <td>197.689804</td>\n",
       "      <td>6.985708</td>\n",
       "      <td>34.0</td>\n",
       "    </tr>\n",
       "    <tr>\n",
       "      <th>4237</th>\n",
       "      <td>2021-07-11</td>\n",
       "      <td>6110</td>\n",
       "      <td>193.829712</td>\n",
       "      <td>6.919861</td>\n",
       "      <td>33.0</td>\n",
       "    </tr>\n",
       "    <tr>\n",
       "      <th>4238</th>\n",
       "      <td>2021-07-18</td>\n",
       "      <td>6110</td>\n",
       "      <td>191.609695</td>\n",
       "      <td>6.831414</td>\n",
       "      <td>33.0</td>\n",
       "    </tr>\n",
       "    <tr>\n",
       "      <th>4239</th>\n",
       "      <td>2021-07-25</td>\n",
       "      <td>6110</td>\n",
       "      <td>186.549835</td>\n",
       "      <td>6.689811</td>\n",
       "      <td>32.0</td>\n",
       "    </tr>\n",
       "  </tbody>\n",
       "</table>\n",
       "<p>4240 rows × 5 columns</p>\n",
       "</div>"
      ],
      "text/plain": [
       "      SALE_DATE PRODUCT_ID  SALE_UNITS  SALE_PRICE  ACTIVE_STORES\n",
       "0    2017-07-09      16387   42.251595    8.454278           34.0\n",
       "1    2017-07-16      16387   36.764851    8.412099           35.0\n",
       "2    2017-07-23      16387   35.794357    8.411769           35.0\n",
       "3    2017-07-30      16387   36.209229    8.308873           35.0\n",
       "4    2017-08-06      16387   37.983948    8.328200           36.0\n",
       "...         ...        ...         ...         ...            ...\n",
       "4235 2021-06-27       6110  197.458313    7.092176           34.0\n",
       "4236 2021-07-04       6110  197.689804    6.985708           34.0\n",
       "4237 2021-07-11       6110  193.829712    6.919861           33.0\n",
       "4238 2021-07-18       6110  191.609695    6.831414           33.0\n",
       "4239 2021-07-25       6110  186.549835    6.689811           32.0\n",
       "\n",
       "[4240 rows x 5 columns]"
      ]
     },
     "execution_count": 26,
     "metadata": {},
     "output_type": "execute_result"
    }
   ],
   "source": [
    "pipeline.inverse_transform(output)"
   ]
  },
  {
   "cell_type": "code",
   "execution_count": null,
   "id": "449f5e77",
   "metadata": {},
   "outputs": [],
   "source": []
  }
 ],
 "metadata": {
  "kernelspec": {
   "display_name": "Python 3 (ipykernel)",
   "language": "python",
   "name": "python3"
  },
  "language_info": {
   "codemirror_mode": {
    "name": "ipython",
    "version": 3
   },
   "file_extension": ".py",
   "mimetype": "text/x-python",
   "name": "python",
   "nbconvert_exporter": "python",
   "pygments_lexer": "ipython3",
   "version": "3.9.5"
  }
 },
 "nbformat": 4,
 "nbformat_minor": 5
}
